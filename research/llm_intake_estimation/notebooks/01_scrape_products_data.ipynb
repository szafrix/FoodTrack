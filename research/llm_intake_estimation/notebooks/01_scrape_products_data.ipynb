{
 "cells": [
  {
   "cell_type": "code",
   "execution_count": 1,
   "metadata": {},
   "outputs": [],
   "source": [
    "import sys\n",
    "\n",
    "sys.path.append(\"..\")\n",
    "from tqdm import tqdm\n",
    "from scraper import download_product_data, postprocess_product_data\n",
    "import pandas as pd\n",
    "from time import sleep"
   ]
  },
  {
   "cell_type": "code",
   "execution_count": 2,
   "metadata": {},
   "outputs": [
    {
     "name": "stdout",
     "output_type": "stream",
     "text": [
      "Raw Ingredients: 14\n",
      "Minimally Processed Foods: 18\n",
      "Basic Processed Foods: 13\n",
      "Moderately Processed Foods: 15\n",
      "Highly Processed Foods: 15\n",
      "Specialty Foods: 12\n",
      "Beverages: 17\n",
      "Composite Dishes: 13\n"
     ]
    }
   ],
   "source": [
    "# Raw Ingredients\n",
    "raw_ingredients = [\n",
    "    2000000151184, 95159331, 8033803726749, 5054781512257, 77890260456,\n",
    "    20930769, 4088600352725, 3770013085024, 3276559054390, 4088600441689,\n",
    "    2200280444206, 4088600511467, 5018095011271, 20166090\n",
    "]\n",
    "\n",
    "# Minimally Processed Foods\n",
    "minimally_processed_foods = [\n",
    "    5000436589341, 9300639400013, 5201054017432, 5000295142893, 3263859406820,\n",
    "    8480000609632, 5740900404465, 20057251, 3302740059186, 3661112092108,\n",
    "    20668518, 4056489320180, 5034467000223, 5034467000872, 3229820796642,\n",
    "    20760069, 5060069170033, 4056489141877\n",
    "]\n",
    "\n",
    "# Basic Processed Foods\n",
    "basic_processed_foods = [\n",
    "    72250037129, 5025125000112, 4056489506829, 8076800195057, 5020580019686,\n",
    "    20004132, 20009847, 8480000331366, 20253929, 3599741006329, 3083681105247,\n",
    "    20474478, 20114671\n",
    "]\n",
    "\n",
    "# Moderately Processed Foods\n",
    "moderately_processed_foods = [\n",
    "    5059319014814, 705599014147, 5941000025639, 3245414021068, 8715700017006,\n",
    "    8722700479475, 8715035110106, 3449865302664, 5054775296774, 8852018101024,\n",
    "    8480000808585, 3019081238643, 3017230000059, 3560070259564, 3228021170039\n",
    "]\n",
    "\n",
    "# Highly Processed Foods\n",
    "highly_processed_foods = [\n",
    "    4056489451136, 20621650, 3276170011185, 21000658831, 3038352880305,\n",
    "    3178530412697, 3046920022651, 8711327373105, 8714601010895, 7622300471811,\n",
    "    3155251205296, 20149710, 4088600272641, 8801073113381, 20030841\n",
    "]\n",
    "\n",
    "# Specialty Foods\n",
    "specialty_foods = [\n",
    "    5060469988566, 20035525, 850004207390, 5202390015878, 73410957790, 4061458069762, 4056489332848, 4088600249414,\n",
    "    8431876277630, 4056489616443, 5032722316140, 5051008865387\n",
    "]\n",
    "\n",
    "# Beverages\n",
    "beverages = [\n",
    "    5449000214911, 7818707, 5056025440432, 7090008099048, 20569105,\n",
    "    31200452009, 8002270576829, 5449000004840, 3124480197368, 5449000000996, 5410228142218,\n",
    "    3502110009449, 5060100601861, 3168930171058, 5449000014535, 5901067470018, '0884394000354',\n",
    "    \n",
    "    \n",
    "]\n",
    "\n",
    "# Composite Dishes\n",
    "composite_dishes = [\n",
    "    4388844252233, 8410762220585, 5000157062673, 20289201, 8410173072025,\n",
    "    8480000231376, 131704, 3456700231355, 3270160697861, 5053947817724, 20995157, 8410076471222, 19966991\n",
    "]\n",
    "\n",
    "# Print the lists to verify\n",
    "print(\"Raw Ingredients:\", len(raw_ingredients))\n",
    "print(\"Minimally Processed Foods:\", len(minimally_processed_foods))\n",
    "print(\"Basic Processed Foods:\", len(basic_processed_foods))\n",
    "print(\"Moderately Processed Foods:\", len(moderately_processed_foods))\n",
    "print(\"Highly Processed Foods:\", len(highly_processed_foods))\n",
    "print(\"Specialty Foods:\", len(specialty_foods))\n",
    "print(\"Beverages:\", len(beverages))\n",
    "print(\"Composite Dishes:\", len(composite_dishes))"
   ]
  },
  {
   "cell_type": "code",
   "execution_count": 3,
   "metadata": {},
   "outputs": [],
   "source": [
    "all_lists = [\n",
    "    raw_ingredients,\n",
    "    minimally_processed_foods,\n",
    "    basic_processed_foods,\n",
    "    moderately_processed_foods,\n",
    "    highly_processed_foods,\n",
    "    specialty_foods,\n",
    "    beverages,\n",
    "    composite_dishes\n",
    "]\n",
    "all_names = [\n",
    "    \"Raw Ingredients\",\n",
    "    \"Minimally Processed Foods\",\n",
    "    \"Basic Processed Foods\",\n",
    "    \"Moderately Processed Foods\",\n",
    "    \"Highly Processed Foods\",\n",
    "    \"Specialty Foods\",\n",
    "    \"Beverages\",\n",
    "    \"Composite Dishes\"\n",
    "]"
   ]
  },
  {
   "cell_type": "code",
   "execution_count": 4,
   "metadata": {},
   "outputs": [
    {
     "name": "stdout",
     "output_type": "stream",
     "text": [
      "No nutriments data present\n",
      "Product not found\n",
      "Error processing product 77890260456: 'NoneType' object is not subscriptable\n",
      "Product not found\n",
      "Error processing product 73410957790: 'NoneType' object is not subscriptable\n",
      "Product not found\n",
      "Error processing product 31200452009: 'NoneType' object is not subscriptable\n",
      "Product not found\n",
      "Error processing product 131704: 'NoneType' object is not subscriptable\n"
     ]
    }
   ],
   "source": [
    "for name, lst in zip(all_names, all_lists):\n",
    "    products_from_category = []\n",
    "    for product_id in lst:\n",
    "        try:\n",
    "            product_data = download_product_data(product_id)\n",
    "            product_data = postprocess_product_data(product_data)\n",
    "            products_from_category.append(product_data)\n",
    "        except Exception as e:\n",
    "            print(f\"Error processing product {product_id}: {e}\")\n",
    "            sleep(15)\n",
    "    pd.DataFrame(products_from_category).to_csv(f\"../data/raw/{name}.csv\", index=False)"
   ]
  },
  {
   "cell_type": "code",
   "execution_count": 6,
   "metadata": {},
   "outputs": [],
   "source": [
    "product_data"
   ]
  },
  {
   "cell_type": "code",
   "execution_count": null,
   "metadata": {},
   "outputs": [],
   "source": []
  }
 ],
 "metadata": {
  "kernelspec": {
   "display_name": ".venv",
   "language": "python",
   "name": "python3"
  },
  "language_info": {
   "codemirror_mode": {
    "name": "ipython",
    "version": 3
   },
   "file_extension": ".py",
   "mimetype": "text/x-python",
   "name": "python",
   "nbconvert_exporter": "python",
   "pygments_lexer": "ipython3",
   "version": "3.11.2"
  }
 },
 "nbformat": 4,
 "nbformat_minor": 2
}
