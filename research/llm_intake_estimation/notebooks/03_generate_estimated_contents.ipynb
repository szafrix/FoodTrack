{
 "cells": [
  {
   "cell_type": "code",
   "execution_count": 10,
   "metadata": {},
   "outputs": [],
   "source": [
    "import openai\n",
    "import pandas as pd\n",
    "from openai import OpenAI\n",
    "from tqdm import tqdm"
   ]
  },
  {
   "cell_type": "code",
   "execution_count": 7,
   "metadata": {},
   "outputs": [],
   "source": [
    "client = OpenAI()"
   ]
  },
  {
   "cell_type": "code",
   "execution_count": 2,
   "metadata": {},
   "outputs": [],
   "source": [
    "df = pd.read_csv(\"../data/processed/scraped_data_with_LLM_friendly_name.csv\")"
   ]
  },
  {
   "cell_type": "code",
   "execution_count": 22,
   "metadata": {},
   "outputs": [],
   "source": [
    "PROMPT = \"\"\"You will be given a name of a food item. The item can be of any category of food - from raw ingredients to fully prepared meals.\n",
    "Your task is to estimate the calories, protein, fat, and carbohydrates per 100 gram of this item.\n",
    "Firstly, think about the content of the item inside <scratchpad> XML tags.\n",
    "Then, write the answer while keeping the following structure:\n",
    "<calories>[Your estimated calories (in grams) per 100 gram]</calories>\n",
    "<protein>[Your estimated protein (in grams) per 100 gram]</protein>\n",
    "<fat>[Your estimated fat (in grams) per 100 gram]</fat>\n",
    "<carbohydrates>[Your estimated carbohydrates (in grams) per 100 gram]</carbohydrates>\n",
    "\n",
    "To faciliate postprocessing, in each answer section write only a number, without the unit.\n",
    "\n",
    "Here is the name of the item:\n",
    "{name}\n",
    "\"\"\""
   ]
  },
  {
   "cell_type": "code",
   "execution_count": 23,
   "metadata": {},
   "outputs": [],
   "source": [
    "def ask_gpt(name):\n",
    "    chat_completion = client.chat.completions.create(\n",
    "        messages=[\n",
    "            {\n",
    "                \"role\": \"user\",\n",
    "                \"content\": PROMPT.format(name=name)\n",
    "            }\n",
    "        ],\n",
    "        model=\"gpt-4o\",\n",
    "    )\n",
    "    return chat_completion.choices[0].message.content"
   ]
  },
  {
   "cell_type": "code",
   "execution_count": 24,
   "metadata": {},
   "outputs": [
    {
     "name": "stderr",
     "output_type": "stream",
     "text": [
      "0it [00:00, ?it/s]"
     ]
    },
    {
     "name": "stderr",
     "output_type": "stream",
     "text": [
      "81it [03:40,  2.72s/it]\n"
     ]
    }
   ],
   "source": [
    "for idx, row in tqdm(df.iterrows()):\n",
    "    gpt_estimated_contents = ask_gpt(row[\"LLM friendly name\"])\n",
    "    df.loc[idx, \"gpt_completion\"] = gpt_estimated_contents"
   ]
  },
  {
   "cell_type": "code",
   "execution_count": 25,
   "metadata": {},
   "outputs": [],
   "source": [
    "df['gpt_energy_kcal_100g'] = df['gpt_completion'].apply(lambda x: float(x.split(\"<calories>\")[1].split(\"</calories>\")[0]))\n",
    "df['gpt_proteins_100g'] = df['gpt_completion'].apply(lambda x: float(x.split(\"<protein>\")[1].split(\"</protein>\")[0]))\n",
    "df['gpt_fat_100g'] = df['gpt_completion'].apply(lambda x: float(x.split(\"<fat>\")[1].split(\"</fat>\")[0]))\n",
    "df['gpt_carbohydrates_100g'] = df['gpt_completion'].apply(lambda x: float(x.split(\"<carbohydrates>\")[1].split(\"</carbohydrates>\")[0]))"
   ]
  },
  {
   "cell_type": "code",
   "execution_count": 27,
   "metadata": {},
   "outputs": [],
   "source": [
    "df.to_csv(\"../data/processed/scraped_data_with_gpt_estimated_contents.csv\", index=False)"
   ]
  }
 ],
 "metadata": {
  "kernelspec": {
   "display_name": ".venv",
   "language": "python",
   "name": "python3"
  },
  "language_info": {
   "codemirror_mode": {
    "name": "ipython",
    "version": 3
   },
   "file_extension": ".py",
   "mimetype": "text/x-python",
   "name": "python",
   "nbconvert_exporter": "python",
   "pygments_lexer": "ipython3",
   "version": "3.11.2"
  }
 },
 "nbformat": 4,
 "nbformat_minor": 2
}
